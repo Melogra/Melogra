{
 "cells": [
  {
   "cell_type": "markdown",
   "id": "014938c5",
   "metadata": {},
   "source": [
    "## Этот ноутбук служит для того, чтобы собирать и агрегировать данные для основного файла ***nasdaq_stocks.csv***, \n",
    "\n",
    "# который лежит в /Users/denispavlov/Documents/1_strategy/database/nasdaq_stocks.csv\n",
    "\n",
    "# Результатом исполения этого ноутбука является файл с самыми последними биржевыми котировками, для последующей обработки по стратегии Моментум\n",
    "\n",
    "# Описание файла:\n",
    "\n",
    "1. Название файла **nasdaq_stocks.csv**\n",
    "2. Регулярно обновляется\n",
    "3. Не перемещаяется и не переименовывается\n",
    "4. Используется для создания dataframe, которая обрабатывает данные, создаёт и тестирует стратегию Моментум\n",
    "5. Содержит данные по акциям и ценам закрытия этих акций."
   ]
  },
  {
   "cell_type": "markdown",
   "id": "332c8974",
   "metadata": {},
   "source": [
    "# Исполняемый блок"
   ]
  },
  {
   "cell_type": "markdown",
   "id": "04ac9a8e",
   "metadata": {},
   "source": [
    "## Подготовка блокнота к работе"
   ]
  },
  {
   "cell_type": "code",
   "execution_count": 1,
   "id": "a3a0acbe",
   "metadata": {},
   "outputs": [],
   "source": [
    "# импорт библиотек\n",
    "import pandas as pd\n",
    "import yfinance as yf"
   ]
  },
  {
   "cell_type": "code",
   "execution_count": 6,
   "id": "2c09a683",
   "metadata": {},
   "outputs": [],
   "source": [
    "# путь к директории где находится файл\n",
    "\n",
    "import os; os.chdir(\"..\")\n",
    "os.chdir('/Users/denispavlov/Documents/1_strategy/database/') # см первый текстовый блок\n",
    "#os.chdir('C:/Users/tomtosov/Desktop')"
   ]
  },
  {
   "cell_type": "markdown",
   "id": "af4577b7",
   "metadata": {},
   "source": [
    "# Выгрузка данных"
   ]
  },
  {
   "cell_type": "markdown",
   "id": "8dea8cc3",
   "metadata": {},
   "source": [
    "Для выгрузки данных необходимо выполнить два основных шага:\n",
    "1. Выгрузить список (тип series) тикеров, которые торгуются и торговались на бирже(биржах)\n",
    "2. Выгрузить данные (цены закрытия) по списку из шага 1 из yahoo finance\n",
    "Для выгрузки списка из шага 1 используем открытые данные с NASDAQ ссылка https://www.nasdaq.com/market-activity/stocks/screener?exchange=NASDAQ&render=download \n",
    "\n",
    "**ВАЖНО** скачанный файл переименовывается один раз в nasdaq_stocks.csv и в дальнейшем обновляется только при помощи python"
   ]
  },
  {
   "cell_type": "markdown",
   "id": "d12b5a91",
   "metadata": {},
   "source": [
    "# Шаг 1\n",
    "\n",
    "Для выгрузки из yahoo finance, нам необходим список акций формата list. Делаем его ниже."
   ]
  },
  {
   "cell_type": "markdown",
   "id": "fe26a437",
   "metadata": {},
   "source": [
    "Работаем с файлом nasdaq_stocks.csv ранее скачанным с https://www.nasdaq.com/market-activity/stocks/screener?exchange=NASDAQ&render=download "
   ]
  },
  {
   "cell_type": "code",
   "execution_count": 7,
   "id": "b9b81feb",
   "metadata": {},
   "outputs": [
    {
     "data": {
      "text/html": [
       "<div>\n",
       "<style scoped>\n",
       "    .dataframe tbody tr th:only-of-type {\n",
       "        vertical-align: middle;\n",
       "    }\n",
       "\n",
       "    .dataframe tbody tr th {\n",
       "        vertical-align: top;\n",
       "    }\n",
       "\n",
       "    .dataframe thead th {\n",
       "        text-align: right;\n",
       "    }\n",
       "</style>\n",
       "<table border=\"1\" class=\"dataframe\">\n",
       "  <thead>\n",
       "    <tr style=\"text-align: right;\">\n",
       "      <th></th>\n",
       "      <th>Symbol</th>\n",
       "      <th>Name</th>\n",
       "      <th>Last Sale</th>\n",
       "      <th>Net Change</th>\n",
       "      <th>% Change</th>\n",
       "      <th>Market Cap</th>\n",
       "      <th>Country</th>\n",
       "      <th>IPO Year</th>\n",
       "      <th>Volume</th>\n",
       "      <th>Sector</th>\n",
       "      <th>Industry</th>\n",
       "    </tr>\n",
       "  </thead>\n",
       "  <tbody>\n",
       "    <tr>\n",
       "      <th>0</th>\n",
       "      <td>AACG</td>\n",
       "      <td>ATA Creativity Global American Depositary Shares</td>\n",
       "      <td>$1.85</td>\n",
       "      <td>-0.0005</td>\n",
       "      <td>-0.027%</td>\n",
       "      <td>5.845739e+07</td>\n",
       "      <td>China</td>\n",
       "      <td>2008.0</td>\n",
       "      <td>36785</td>\n",
       "      <td>Consumer Discretionary</td>\n",
       "      <td>Service to the Health Industry</td>\n",
       "    </tr>\n",
       "    <tr>\n",
       "      <th>1</th>\n",
       "      <td>AACI</td>\n",
       "      <td>Armada Acquisition Corp. I Common Stock</td>\n",
       "      <td>$9.91</td>\n",
       "      <td>0.0000</td>\n",
       "      <td>0.00%</td>\n",
       "      <td>2.052311e+08</td>\n",
       "      <td>United States</td>\n",
       "      <td>2021.0</td>\n",
       "      <td>3</td>\n",
       "      <td>Industrials</td>\n",
       "      <td>Consumer Electronics/Appliances</td>\n",
       "    </tr>\n",
       "    <tr>\n",
       "      <th>2</th>\n",
       "      <td>AACIW</td>\n",
       "      <td>Armada Acquisition Corp. I Warrant</td>\n",
       "      <td>$0.17</td>\n",
       "      <td>0.0101</td>\n",
       "      <td>6.316%</td>\n",
       "      <td>0.000000e+00</td>\n",
       "      <td>United States</td>\n",
       "      <td>2021.0</td>\n",
       "      <td>6257</td>\n",
       "      <td>Industrials</td>\n",
       "      <td>Consumer Electronics/Appliances</td>\n",
       "    </tr>\n",
       "    <tr>\n",
       "      <th>3</th>\n",
       "      <td>AADI</td>\n",
       "      <td>Aadi Bioscience Inc. Common Stock</td>\n",
       "      <td>$14.22</td>\n",
       "      <td>0.0200</td>\n",
       "      <td>0.141%</td>\n",
       "      <td>2.977949e+08</td>\n",
       "      <td>United States</td>\n",
       "      <td>NaN</td>\n",
       "      <td>72069</td>\n",
       "      <td>Health Care</td>\n",
       "      <td>Biotechnology: Pharmaceutical Preparations</td>\n",
       "    </tr>\n",
       "    <tr>\n",
       "      <th>4</th>\n",
       "      <td>AAL</td>\n",
       "      <td>American Airlines Group Inc. Common Stock</td>\n",
       "      <td>$15.02</td>\n",
       "      <td>0.2800</td>\n",
       "      <td>1.90%</td>\n",
       "      <td>9.760686e+09</td>\n",
       "      <td>United States</td>\n",
       "      <td>NaN</td>\n",
       "      <td>23639446</td>\n",
       "      <td>Consumer Discretionary</td>\n",
       "      <td>Air Freight/Delivery Services</td>\n",
       "    </tr>\n",
       "    <tr>\n",
       "      <th>...</th>\n",
       "      <td>...</td>\n",
       "      <td>...</td>\n",
       "      <td>...</td>\n",
       "      <td>...</td>\n",
       "      <td>...</td>\n",
       "      <td>...</td>\n",
       "      <td>...</td>\n",
       "      <td>...</td>\n",
       "      <td>...</td>\n",
       "      <td>...</td>\n",
       "      <td>...</td>\n",
       "    </tr>\n",
       "    <tr>\n",
       "      <th>4929</th>\n",
       "      <td>ZWRKU</td>\n",
       "      <td>Z-Work Acquisition Corp. Units</td>\n",
       "      <td>$9.87</td>\n",
       "      <td>0.0000</td>\n",
       "      <td>0.00%</td>\n",
       "      <td>0.000000e+00</td>\n",
       "      <td>United States</td>\n",
       "      <td>2021.0</td>\n",
       "      <td>999</td>\n",
       "      <td>Industrials</td>\n",
       "      <td>Consumer Electronics/Appliances</td>\n",
       "    </tr>\n",
       "    <tr>\n",
       "      <th>4930</th>\n",
       "      <td>ZWRKW</td>\n",
       "      <td>Z-Work Acquisition Corp. Warrant</td>\n",
       "      <td>$0.1001</td>\n",
       "      <td>-0.0349</td>\n",
       "      <td>-25.852%</td>\n",
       "      <td>0.000000e+00</td>\n",
       "      <td>United States</td>\n",
       "      <td>2021.0</td>\n",
       "      <td>1328</td>\n",
       "      <td>Industrials</td>\n",
       "      <td>Consumer Electronics/Appliances</td>\n",
       "    </tr>\n",
       "    <tr>\n",
       "      <th>4931</th>\n",
       "      <td>ZY</td>\n",
       "      <td>Zymergen Inc. Common Stock</td>\n",
       "      <td>$2.85</td>\n",
       "      <td>0.1300</td>\n",
       "      <td>4.779%</td>\n",
       "      <td>2.939512e+08</td>\n",
       "      <td>United States</td>\n",
       "      <td>2021.0</td>\n",
       "      <td>1396863</td>\n",
       "      <td>Industrials</td>\n",
       "      <td>Industrial Specialties</td>\n",
       "    </tr>\n",
       "    <tr>\n",
       "      <th>4932</th>\n",
       "      <td>ZYNE</td>\n",
       "      <td>Zynerba Pharmaceuticals Inc. Common Stock</td>\n",
       "      <td>$1.25</td>\n",
       "      <td>0.0300</td>\n",
       "      <td>2.459%</td>\n",
       "      <td>5.449495e+07</td>\n",
       "      <td>United States</td>\n",
       "      <td>2015.0</td>\n",
       "      <td>699243</td>\n",
       "      <td>Health Care</td>\n",
       "      <td>Biotechnology: Pharmaceutical Preparations</td>\n",
       "    </tr>\n",
       "    <tr>\n",
       "      <th>4933</th>\n",
       "      <td>ZYXI</td>\n",
       "      <td>Zynex Inc. Common Stock</td>\n",
       "      <td>$9.73</td>\n",
       "      <td>0.3900</td>\n",
       "      <td>4.176%</td>\n",
       "      <td>3.746050e+08</td>\n",
       "      <td>United States</td>\n",
       "      <td>NaN</td>\n",
       "      <td>402484</td>\n",
       "      <td>Health Care</td>\n",
       "      <td>Other Pharmaceuticals</td>\n",
       "    </tr>\n",
       "  </tbody>\n",
       "</table>\n",
       "<p>4934 rows × 11 columns</p>\n",
       "</div>"
      ],
      "text/plain": [
       "     Symbol                                              Name Last Sale  \\\n",
       "0      AACG  ATA Creativity Global American Depositary Shares     $1.85   \n",
       "1      AACI           Armada Acquisition Corp. I Common Stock     $9.91   \n",
       "2     AACIW                Armada Acquisition Corp. I Warrant     $0.17   \n",
       "3      AADI                 Aadi Bioscience Inc. Common Stock    $14.22   \n",
       "4       AAL         American Airlines Group Inc. Common Stock    $15.02   \n",
       "...     ...                                               ...       ...   \n",
       "4929  ZWRKU                    Z-Work Acquisition Corp. Units     $9.87   \n",
       "4930  ZWRKW                  Z-Work Acquisition Corp. Warrant   $0.1001   \n",
       "4931     ZY                        Zymergen Inc. Common Stock     $2.85   \n",
       "4932   ZYNE         Zynerba Pharmaceuticals Inc. Common Stock     $1.25   \n",
       "4933   ZYXI                           Zynex Inc. Common Stock     $9.73   \n",
       "\n",
       "      Net Change  % Change    Market Cap        Country  IPO Year    Volume  \\\n",
       "0        -0.0005   -0.027%  5.845739e+07          China    2008.0     36785   \n",
       "1         0.0000     0.00%  2.052311e+08  United States    2021.0         3   \n",
       "2         0.0101    6.316%  0.000000e+00  United States    2021.0      6257   \n",
       "3         0.0200    0.141%  2.977949e+08  United States       NaN     72069   \n",
       "4         0.2800     1.90%  9.760686e+09  United States       NaN  23639446   \n",
       "...          ...       ...           ...            ...       ...       ...   \n",
       "4929      0.0000     0.00%  0.000000e+00  United States    2021.0       999   \n",
       "4930     -0.0349  -25.852%  0.000000e+00  United States    2021.0      1328   \n",
       "4931      0.1300    4.779%  2.939512e+08  United States    2021.0   1396863   \n",
       "4932      0.0300    2.459%  5.449495e+07  United States    2015.0    699243   \n",
       "4933      0.3900    4.176%  3.746050e+08  United States       NaN    402484   \n",
       "\n",
       "                      Sector                                    Industry  \n",
       "0     Consumer Discretionary              Service to the Health Industry  \n",
       "1                Industrials             Consumer Electronics/Appliances  \n",
       "2                Industrials             Consumer Electronics/Appliances  \n",
       "3                Health Care  Biotechnology: Pharmaceutical Preparations  \n",
       "4     Consumer Discretionary               Air Freight/Delivery Services  \n",
       "...                      ...                                         ...  \n",
       "4929             Industrials             Consumer Electronics/Appliances  \n",
       "4930             Industrials             Consumer Electronics/Appliances  \n",
       "4931             Industrials                      Industrial Specialties  \n",
       "4932             Health Care  Biotechnology: Pharmaceutical Preparations  \n",
       "4933             Health Care                       Other Pharmaceuticals  \n",
       "\n",
       "[4934 rows x 11 columns]"
      ]
     },
     "execution_count": 7,
     "metadata": {},
     "output_type": "execute_result"
    }
   ],
   "source": [
    "# открытие csv-файл через встроенный в pandas reader:\n",
    "# фактически открываем через создание нового df (nasdaq)\n",
    "\n",
    "\n",
    "nasdaq = pd.read_csv('nasdaq_stocks.csv')\n",
    "\n",
    "nasdaq"
   ]
  },
  {
   "cell_type": "code",
   "execution_count": 8,
   "id": "cc03c752",
   "metadata": {},
   "outputs": [
    {
     "data": {
      "text/plain": [
       "4934"
      ]
     },
     "execution_count": 8,
     "metadata": {},
     "output_type": "execute_result"
    }
   ],
   "source": [
    "# быстрый способ посмотреть кол-во акций. \n",
    "# len показывает длинну столбца. поскольку у нас количество строк соответвует количеству акций,\n",
    "# (индекс=symbols)то мы понимает сколько акций должно быть выгружено\n",
    "\n",
    "len(nasdaq)"
   ]
  },
  {
   "cell_type": "code",
   "execution_count": 9,
   "id": "5d7724b5",
   "metadata": {},
   "outputs": [
    {
     "data": {
      "text/plain": [
       "pandas.core.frame.DataFrame"
      ]
     },
     "execution_count": 9,
     "metadata": {},
     "output_type": "execute_result"
    }
   ],
   "source": [
    "# переменная nasdaq имеет тип DataFrame, а нам нужен тип list, list можно сделать из Series\n",
    "\n",
    "type(nasdaq)"
   ]
  },
  {
   "cell_type": "code",
   "execution_count": 10,
   "id": "d3ecfcee",
   "metadata": {},
   "outputs": [
    {
     "data": {
      "text/plain": [
       "0        AACG\n",
       "1        AACI\n",
       "2       AACIW\n",
       "3        AADI\n",
       "4         AAL\n",
       "        ...  \n",
       "4929    ZWRKU\n",
       "4930    ZWRKW\n",
       "4931       ZY\n",
       "4932     ZYNE\n",
       "4933     ZYXI\n",
       "Name: Symbol, Length: 4934, dtype: object"
      ]
     },
     "execution_count": 10,
     "metadata": {},
     "output_type": "execute_result"
    }
   ],
   "source": [
    "# меняем тип данных переменной nasdaq с DataFrame на Series\n",
    "# видим что Length: 4934 = len(nasdaq) 4934, выгрузили правильно!\n",
    "# переходим к изменению формата для последующей агрегации данных (df)\n",
    "# выгружаем столбец 'Symbol', так как тикеры, которые мы будем использовать находятся именно в этом стоблце\n",
    "\n",
    "nasdaq['Symbol']"
   ]
  },
  {
   "cell_type": "code",
   "execution_count": 11,
   "id": "b42b1e4f",
   "metadata": {},
   "outputs": [
    {
     "data": {
      "text/plain": [
       "pandas.core.series.Series"
      ]
     },
     "execution_count": 11,
     "metadata": {},
     "output_type": "execute_result"
    }
   ],
   "source": [
    "# проверяем тип данных и видим, что это Series, а в help(yf.download) в tickers указаны типы str и list\n",
    "# list это отдельный тип данных, поэтому следующий шаг из series в list\n",
    "\n",
    "type(nasdaq['Symbol'])"
   ]
  },
  {
   "cell_type": "markdown",
   "id": "ea32be38",
   "metadata": {},
   "source": [
    "Биржевые коды для запроса в Yahoo находятся в столбце 'Symbol'. Сохраняем значения столбца в отдельном списке и сделаем запрос (займет намного больше времени)"
   ]
  },
  {
   "cell_type": "code",
   "execution_count": 12,
   "id": "66bba813",
   "metadata": {},
   "outputs": [],
   "source": [
    "# переводим столбец Symbol из типа series в тип list\n",
    "\n",
    "nasdaq_tickers = nasdaq['Symbol'].tolist()"
   ]
  },
  {
   "cell_type": "code",
   "execution_count": 13,
   "id": "dd2c5f32",
   "metadata": {},
   "outputs": [
    {
     "data": {
      "text/plain": [
       "pandas.core.frame.DataFrame"
      ]
     },
     "execution_count": 13,
     "metadata": {},
     "output_type": "execute_result"
    }
   ],
   "source": [
    "type(nasdaq) #проверка типа (старый  df)"
   ]
  },
  {
   "cell_type": "code",
   "execution_count": 14,
   "id": "49dd267d",
   "metadata": {},
   "outputs": [
    {
     "data": {
      "text/plain": [
       "list"
      ]
     },
     "execution_count": 14,
     "metadata": {},
     "output_type": "execute_result"
    }
   ],
   "source": [
    "type(nasdaq_tickers) #проверка типа (новый list)"
   ]
  },
  {
   "cell_type": "code",
   "execution_count": 15,
   "id": "1652f80c",
   "metadata": {
    "scrolled": true
   },
   "outputs": [
    {
     "data": {
      "text/plain": [
       "[3039]"
      ]
     },
     "execution_count": 15,
     "metadata": {},
     "output_type": "execute_result"
    }
   ],
   "source": [
    "[i for i, x in zip(range(len(nasdaq_tickers)), nasdaq_tickers) if not isinstance(x,str)]"
   ]
  },
  {
   "cell_type": "markdown",
   "id": "6bd20be9",
   "metadata": {},
   "source": [
    "Не строковая переменная сидит под номером 3039 в списке"
   ]
  },
  {
   "cell_type": "code",
   "execution_count": 16,
   "id": "d3a606ec",
   "metadata": {},
   "outputs": [
    {
     "data": {
      "text/plain": [
       "nan"
      ]
     },
     "execution_count": 16,
     "metadata": {},
     "output_type": "execute_result"
    }
   ],
   "source": [
    "nasdaq_tickers[3039]"
   ]
  },
  {
   "cell_type": "markdown",
   "id": "da40dc23",
   "metadata": {},
   "source": [
    "Это пустое значение, которое сохраненно в float"
   ]
  },
  {
   "cell_type": "code",
   "execution_count": 17,
   "id": "d9ef0d6f",
   "metadata": {},
   "outputs": [
    {
     "data": {
      "text/plain": [
       "float"
      ]
     },
     "execution_count": 17,
     "metadata": {},
     "output_type": "execute_result"
    }
   ],
   "source": [
    "type(nasdaq_tickers[3039])"
   ]
  },
  {
   "cell_type": "markdown",
   "id": "2b68757e",
   "metadata": {},
   "source": [
    "Как оно выглядит в списке:"
   ]
  },
  {
   "cell_type": "code",
   "execution_count": 18,
   "id": "9f823d23",
   "metadata": {},
   "outputs": [
    {
     "data": {
      "text/plain": [
       "['MYSZ', nan, 'NAAC']"
      ]
     },
     "execution_count": 18,
     "metadata": {},
     "output_type": "execute_result"
    }
   ],
   "source": [
    "nasdaq_tickers[3038:3041]"
   ]
  },
  {
   "cell_type": "markdown",
   "id": "83911851",
   "metadata": {},
   "source": [
    "Удалим его по индексу"
   ]
  },
  {
   "cell_type": "code",
   "execution_count": 19,
   "id": "0de03d5a",
   "metadata": {},
   "outputs": [],
   "source": [
    "del nasdaq_tickers[3039]"
   ]
  },
  {
   "cell_type": "markdown",
   "id": "99c0d515",
   "metadata": {},
   "source": [
    "Проверяем еще раз значения на не str в списке. Таких больше нет:"
   ]
  },
  {
   "cell_type": "code",
   "execution_count": 20,
   "id": "6280c86c",
   "metadata": {},
   "outputs": [
    {
     "data": {
      "text/plain": [
       "[]"
      ]
     },
     "execution_count": 20,
     "metadata": {},
     "output_type": "execute_result"
    }
   ],
   "source": [
    "[i for i, x in zip(range(len(nasdaq_tickers)), nasdaq_tickers) if not isinstance(x,str)]"
   ]
  },
  {
   "cell_type": "markdown",
   "id": "41f7c285",
   "metadata": {},
   "source": [
    "Теперь можем делать запрос"
   ]
  },
  {
   "cell_type": "code",
   "execution_count": 21,
   "id": "c6527112",
   "metadata": {
    "scrolled": true
   },
   "outputs": [
    {
     "name": "stdout",
     "output_type": "stream",
     "text": [
      "[                       1%                       ]  44 of 4933 completed"
     ]
    },
    {
     "ename": "RuntimeError",
     "evalue": "can't start new thread",
     "output_type": "error",
     "traceback": [
      "\u001b[0;31m---------------------------------------------------------------------------\u001b[0m",
      "\u001b[0;31mRuntimeError\u001b[0m                              Traceback (most recent call last)",
      "Input \u001b[0;32mIn [21]\u001b[0m, in \u001b[0;36m<cell line: 1>\u001b[0;34m()\u001b[0m\n\u001b[0;32m----> 1\u001b[0m nasdaq_stocks \u001b[38;5;241m=\u001b[39m \u001b[43myf\u001b[49m\u001b[38;5;241;43m.\u001b[39;49m\u001b[43mdownload\u001b[49m\u001b[43m(\u001b[49m\u001b[43mtickers\u001b[49m\u001b[43m \u001b[49m\u001b[38;5;241;43m=\u001b[39;49m\u001b[43m \u001b[49m\u001b[43mnasdaq_tickers\u001b[49m\u001b[43m,\u001b[49m\u001b[43m \u001b[49m\u001b[43mperiod\u001b[49m\u001b[43m \u001b[49m\u001b[38;5;241;43m=\u001b[39;49m\u001b[43m \u001b[49m\u001b[38;5;124;43m'\u001b[39;49m\u001b[38;5;124;43mmax\u001b[39;49m\u001b[38;5;124;43m'\u001b[39;49m\u001b[43m,\u001b[49m\u001b[43m \u001b[49m\u001b[43minterval\u001b[49m\u001b[43m \u001b[49m\u001b[38;5;241;43m=\u001b[39;49m\u001b[43m \u001b[49m\u001b[38;5;124;43m'\u001b[39;49m\u001b[38;5;124;43m1d\u001b[39;49m\u001b[38;5;124;43m'\u001b[39;49m\u001b[43m,\u001b[49m\u001b[43m \u001b[49m\u001b[43mgroup_by\u001b[49m\u001b[43m \u001b[49m\u001b[38;5;241;43m=\u001b[39;49m\u001b[43m \u001b[49m\u001b[38;5;124;43m'\u001b[39;49m\u001b[38;5;124;43mticker\u001b[39;49m\u001b[38;5;124;43m'\u001b[39;49m\u001b[43m)\u001b[49m\n",
      "File \u001b[0;32m~/opt/anaconda3/lib/python3.8/site-packages/yfinance/multi.py:105\u001b[0m, in \u001b[0;36mdownload\u001b[0;34m(tickers, start, end, actions, threads, group_by, auto_adjust, back_adjust, progress, period, show_errors, interval, prepost, proxy, rounding, timeout, **kwargs)\u001b[0m\n\u001b[1;32m    103\u001b[0m _multitasking\u001b[38;5;241m.\u001b[39mset_max_threads(threads)\n\u001b[1;32m    104\u001b[0m \u001b[38;5;28;01mfor\u001b[39;00m i, ticker \u001b[38;5;129;01min\u001b[39;00m \u001b[38;5;28menumerate\u001b[39m(tickers):\n\u001b[0;32m--> 105\u001b[0m     \u001b[43m_download_one_threaded\u001b[49m\u001b[43m(\u001b[49m\u001b[43mticker\u001b[49m\u001b[43m,\u001b[49m\u001b[43m \u001b[49m\u001b[43mperiod\u001b[49m\u001b[38;5;241;43m=\u001b[39;49m\u001b[43mperiod\u001b[49m\u001b[43m,\u001b[49m\u001b[43m \u001b[49m\u001b[43minterval\u001b[49m\u001b[38;5;241;43m=\u001b[39;49m\u001b[43minterval\u001b[49m\u001b[43m,\u001b[49m\n\u001b[1;32m    106\u001b[0m \u001b[43m                           \u001b[49m\u001b[43mstart\u001b[49m\u001b[38;5;241;43m=\u001b[39;49m\u001b[43mstart\u001b[49m\u001b[43m,\u001b[49m\u001b[43m \u001b[49m\u001b[43mend\u001b[49m\u001b[38;5;241;43m=\u001b[39;49m\u001b[43mend\u001b[49m\u001b[43m,\u001b[49m\u001b[43m \u001b[49m\u001b[43mprepost\u001b[49m\u001b[38;5;241;43m=\u001b[39;49m\u001b[43mprepost\u001b[49m\u001b[43m,\u001b[49m\n\u001b[1;32m    107\u001b[0m \u001b[43m                           \u001b[49m\u001b[43mactions\u001b[49m\u001b[38;5;241;43m=\u001b[39;49m\u001b[43mactions\u001b[49m\u001b[43m,\u001b[49m\u001b[43m \u001b[49m\u001b[43mauto_adjust\u001b[49m\u001b[38;5;241;43m=\u001b[39;49m\u001b[43mauto_adjust\u001b[49m\u001b[43m,\u001b[49m\n\u001b[1;32m    108\u001b[0m \u001b[43m                           \u001b[49m\u001b[43mback_adjust\u001b[49m\u001b[38;5;241;43m=\u001b[39;49m\u001b[43mback_adjust\u001b[49m\u001b[43m,\u001b[49m\n\u001b[1;32m    109\u001b[0m \u001b[43m                           \u001b[49m\u001b[43mprogress\u001b[49m\u001b[38;5;241;43m=\u001b[39;49m\u001b[43m(\u001b[49m\u001b[43mprogress\u001b[49m\u001b[43m \u001b[49m\u001b[38;5;129;43;01mand\u001b[39;49;00m\u001b[43m \u001b[49m\u001b[43mi\u001b[49m\u001b[43m \u001b[49m\u001b[38;5;241;43m>\u001b[39;49m\u001b[43m \u001b[49m\u001b[38;5;241;43m0\u001b[39;49m\u001b[43m)\u001b[49m\u001b[43m,\u001b[49m\u001b[43m \u001b[49m\u001b[43mproxy\u001b[49m\u001b[38;5;241;43m=\u001b[39;49m\u001b[43mproxy\u001b[49m\u001b[43m,\u001b[49m\n\u001b[1;32m    110\u001b[0m \u001b[43m                           \u001b[49m\u001b[43mrounding\u001b[49m\u001b[38;5;241;43m=\u001b[39;49m\u001b[43mrounding\u001b[49m\u001b[43m,\u001b[49m\u001b[43m \u001b[49m\u001b[43mtimeout\u001b[49m\u001b[38;5;241;43m=\u001b[39;49m\u001b[43mtimeout\u001b[49m\u001b[43m)\u001b[49m\n\u001b[1;32m    111\u001b[0m \u001b[38;5;28;01mwhile\u001b[39;00m \u001b[38;5;28mlen\u001b[39m(shared\u001b[38;5;241m.\u001b[39m_DFS) \u001b[38;5;241m<\u001b[39m \u001b[38;5;28mlen\u001b[39m(tickers):\n\u001b[1;32m    112\u001b[0m     _time\u001b[38;5;241m.\u001b[39msleep(\u001b[38;5;241m0.01\u001b[39m)\n",
      "File \u001b[0;32m~/opt/anaconda3/lib/python3.8/site-packages/multitasking/__init__.py:119\u001b[0m, in \u001b[0;36mtask.<locals>.async_method\u001b[0;34m(*args, **kwargs)\u001b[0m\n\u001b[1;32m    116\u001b[0m     single \u001b[38;5;241m=\u001b[39m config[\u001b[38;5;124m\"\u001b[39m\u001b[38;5;124mPOOLS\u001b[39m\u001b[38;5;124m\"\u001b[39m][config[\u001b[38;5;124m\"\u001b[39m\u001b[38;5;124mPOOL_NAME\u001b[39m\u001b[38;5;124m\"\u001b[39m]][\u001b[38;5;124m'\u001b[39m\u001b[38;5;124mengine\u001b[39m\u001b[38;5;124m'\u001b[39m](\n\u001b[1;32m    117\u001b[0m         target\u001b[38;5;241m=\u001b[39m_run_via_pool, args\u001b[38;5;241m=\u001b[39margs, kwargs\u001b[38;5;241m=\u001b[39mkwargs)\n\u001b[1;32m    118\u001b[0m config[\u001b[38;5;124m\"\u001b[39m\u001b[38;5;124mTASKS\u001b[39m\u001b[38;5;124m\"\u001b[39m]\u001b[38;5;241m.\u001b[39mappend(single)\n\u001b[0;32m--> 119\u001b[0m \u001b[43msingle\u001b[49m\u001b[38;5;241;43m.\u001b[39;49m\u001b[43mstart\u001b[49m\u001b[43m(\u001b[49m\u001b[43m)\u001b[49m\n\u001b[1;32m    120\u001b[0m \u001b[38;5;28;01mreturn\u001b[39;00m single\n",
      "File \u001b[0;32m~/opt/anaconda3/lib/python3.8/threading.py:852\u001b[0m, in \u001b[0;36mThread.start\u001b[0;34m(self)\u001b[0m\n\u001b[1;32m    850\u001b[0m     _limbo[\u001b[38;5;28mself\u001b[39m] \u001b[38;5;241m=\u001b[39m \u001b[38;5;28mself\u001b[39m\n\u001b[1;32m    851\u001b[0m \u001b[38;5;28;01mtry\u001b[39;00m:\n\u001b[0;32m--> 852\u001b[0m     \u001b[43m_start_new_thread\u001b[49m\u001b[43m(\u001b[49m\u001b[38;5;28;43mself\u001b[39;49m\u001b[38;5;241;43m.\u001b[39;49m\u001b[43m_bootstrap\u001b[49m\u001b[43m,\u001b[49m\u001b[43m \u001b[49m\u001b[43m(\u001b[49m\u001b[43m)\u001b[49m\u001b[43m)\u001b[49m\n\u001b[1;32m    853\u001b[0m \u001b[38;5;28;01mexcept\u001b[39;00m \u001b[38;5;167;01mException\u001b[39;00m:\n\u001b[1;32m    854\u001b[0m     \u001b[38;5;28;01mwith\u001b[39;00m _active_limbo_lock:\n",
      "\u001b[0;31mRuntimeError\u001b[0m: can't start new thread"
     ]
    },
    {
     "name": "stdout",
     "output_type": "stream",
     "text": [
      "[********************  42%                       ]  2055 of 4933 completed"
     ]
    }
   ],
   "source": [
    "nasdaq_stocks = yf.download(tickers = nasdaq_tickers, period = 'max', interval = '1d', group_by = 'ticker')"
   ]
  }
 ],
 "metadata": {
  "kernelspec": {
   "display_name": "Python 3",
   "language": "python",
   "name": "python3"
  },
  "language_info": {
   "codemirror_mode": {
    "name": "ipython",
    "version": 3
   },
   "file_extension": ".py",
   "mimetype": "text/x-python",
   "name": "python",
   "nbconvert_exporter": "python",
   "pygments_lexer": "ipython3",
   "version": "3.8.8"
  }
 },
 "nbformat": 4,
 "nbformat_minor": 5
}
